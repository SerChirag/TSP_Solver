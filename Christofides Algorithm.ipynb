{
 "cells": [
  {
   "cell_type": "code",
   "execution_count": 32,
   "metadata": {},
   "outputs": [],
   "source": [
    "import helper"
   ]
  },
  {
   "cell_type": "code",
   "execution_count": 33,
   "metadata": {},
   "outputs": [],
   "source": [
    "f = open(\"TestCases/euc_100\")\n",
    "a = f.readlines()\n",
    "nodes = [] \n",
    "num = int(a[1]) # number of nodes\n",
    "\n",
    "for i in range(2,2+num):\n",
    "    r = map(float,a[i].split())\n",
    "    nodes.append(r)\n",
    "\n",
    "G = {} # graph for the distance between cities\n",
    "\n",
    "for i in range(num):\n",
    "    G[i] = {}\n",
    "k = 0\n",
    "for i in range(2+num,2+2*num):\n",
    "    r = map(float,a[i].split())\n",
    "    for j in range(num):\n",
    "        if(k == j):\n",
    "            pass\n",
    "        else:\n",
    "            G[k][j] = r[j]\n",
    "    k+=1\n",
    "    \n",
    "result = tsp(nodes,G)"
   ]
  },
  {
   "cell_type": "code",
   "execution_count": 34,
   "metadata": {},
   "outputs": [
    {
     "name": "stdout",
     "output_type": "stream",
     "text": [
      "[93, 2, 66, 32, 46, 8, 73, 75, 88, 20, 25, 12, 93, 30, 9, 55, 64, 15, 84, 33, 99, 17, 59, 80, 86, 52, 13, 18, 10, 85, 0, 38, 65, 56, 62, 44, 42, 90, 89, 35, 28, 11, 72, 22, 16, 26, 97, 57, 4, 19, 60, 27, 74, 96, 92, 34, 81, 21, 39, 24, 47, 5, 76, 6, 95, 69, 83, 68, 31, 49, 23, 14, 91, 51, 7, 53, 45, 71, 77, 37, 58, 78, 67, 40, 94, 3, 82, 1, 63, 48, 54, 41, 29, 36, 98, 79, 70, 50, 87, 43, 61]\n"
     ]
    }
   ],
   "source": [
    "print result"
   ]
  },
  {
   "cell_type": "code",
   "execution_count": null,
   "metadata": {},
   "outputs": [],
   "source": []
  }
 ],
 "metadata": {
  "kernelspec": {
   "display_name": "Python 3",
   "language": "python",
   "name": "python3"
  },
  "language_info": {
   "codemirror_mode": {
    "name": "ipython",
    "version": 2
   },
   "file_extension": ".py",
   "mimetype": "text/x-python",
   "name": "python",
   "nbconvert_exporter": "python",
   "pygments_lexer": "ipython2",
   "version": "2.7.15rc1"
  }
 },
 "nbformat": 4,
 "nbformat_minor": 2
}
